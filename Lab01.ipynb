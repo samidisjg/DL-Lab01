{
  "nbformat": 4,
  "nbformat_minor": 0,
  "metadata": {
    "colab": {
      "provenance": []
    },
    "kernelspec": {
      "name": "python3",
      "display_name": "Python 3"
    },
    "language_info": {
      "name": "python"
    }
  },
  "cells": [
    {
      "cell_type": "markdown",
      "source": [
        "# **Lab 1: Introduction to Python libraries for Deep Learning**\n",
        "\n",
        "**IT22607232 -Gamage S S J**"
      ],
      "metadata": {
        "id": "WSY8G4S2thFJ"
      }
    },
    {
      "cell_type": "markdown",
      "source": [
        "## **Task -01**"
      ],
      "metadata": {
        "id": "b7extXHXvEBD"
      }
    },
    {
      "cell_type": "markdown",
      "source": [
        "**Import Required Libraries**"
      ],
      "metadata": {
        "id": "Fr-9oVSYvIAH"
      }
    },
    {
      "cell_type": "code",
      "source": [
        "import numpy as np\n",
        "import matplotlib.pyplot as plt\n",
        "import pandas as pd\n",
        "import seaborn as sns\n",
        "from mpl_toolkits.mplot3d import Axes3D\n",
        "\n",
        "# Set matplotlib to inline for Jupyter\n",
        "%matplotlib inline\n",
        "\n",
        "# Set figure quality for better plots\n",
        "plt.rcParams['figure.dpi'] = 100\n",
        "plt.rcParams['savefig.dpi'] = 100\n"
      ],
      "metadata": {
        "id": "v5A76ZqRvha6"
      },
      "execution_count": null,
      "outputs": []
    },
    {
      "cell_type": "markdown",
      "source": [
        "**1.1 Random 4×4 array from an exponential distribution**"
      ],
      "metadata": {
        "id": "Q2DLc-Nj3TQm"
      }
    },
    {
      "cell_type": "code",
      "source": [
        "exp_array = np.random.exponential(scale=1.0, size=(4, 4))\n",
        "print(\"4x4 array from exponential distribution:\\n\", exp_array)\n"
      ],
      "metadata": {
        "id": "57dlNFgUv_MS"
      },
      "execution_count": null,
      "outputs": []
    },
    {
      "cell_type": "markdown",
      "source": [
        "**1.2 Compare exponential, uniform, and normal distributions**"
      ],
      "metadata": {
        "id": "xYPOkgQw3bdl"
      }
    },
    {
      "cell_type": "code",
      "source": [
        "# Create arrays\n",
        "exp_data = np.random.exponential(scale=1.0, size=100000)   # Exponential\n",
        "uniform_data = np.random.rand(100000)                          # Uniform [0,1)\n",
        "normal_data = np.random.randn(100000)                        # Normal N(0,1)\n",
        "\n",
        "# Plot histograms\n",
        "\n",
        "plt.hist(exp_data, density=True, bins=200, histtype=\"step\", color=\"red\", label=\"Exponential\")\n",
        "plt.hist(uniform_data, density=True, bins=200, histtype=\"step\", color=\"blue\", label=\"Uniform\")\n",
        "plt.hist(normal_data, density=True, bins=200, histtype=\"step\", color=\"green\", label=\"Normal\")\n",
        "\n",
        "# Better axis limits for visualization\n",
        "plt.axis([-2.5,8, 0, 1.3])\n",
        "plt.legend(loc=\"upper right\")\n",
        "plt.title(\"Random Distributions: Exponential,Uniform,Normal\")\n",
        "plt.xlabel(\"Value\")\n",
        "plt.ylabel(\"Density\")\n",
        "plt.show()\n"
      ],
      "metadata": {
        "id": "sHOpXU34wLYB"
      },
      "execution_count": null,
      "outputs": []
    },
    {
      "cell_type": "markdown",
      "source": [
        "1.3  3D Plot"
      ],
      "metadata": {
        "id": "LLZcCPv83nZf"
      }
    },
    {
      "cell_type": "code",
      "source": [
        "# Create grid\n",
        "x = np.linspace(-5, 5, 100)\n",
        "y = np.linspace(-5, 5, 100)\n",
        "X, Y = np.meshgrid(x, y)\n",
        "Z = X**2 + Y**2\n",
        "\n",
        "# Plot\n",
        "fig = plt.figure(figsize=(8,6))\n",
        "ax = fig.add_subplot(111, projection='3d')\n",
        "ax.plot_surface(X, Y, Z, cmap='coolwarm')\n",
        "\n",
        "# Labels\n",
        "ax.set_xlabel(\"X-Axis\")\n",
        "ax.set_ylabel(\"Y-Axis\")\n",
        "ax.set_zlabel(\"Z-Axis\")\n",
        "ax.set_title(\"3D Plot of Z = X^2 + Y^2\")\n",
        "plt.show()\n"
      ],
      "metadata": {
        "id": "JFz_P49f3zHG"
      },
      "execution_count": null,
      "outputs": []
    },
    {
      "cell_type": "markdown",
      "source": [
        "**1.4 Pearson & Spearman Correlation Heatmaps**"
      ],
      "metadata": {
        "id": "W_leJNHb8D-p"
      }
    },
    {
      "cell_type": "code",
      "source": [
        "# Load Pokemon dataset\n",
        "df = pd.read_csv('Pokemon.csv', index_col=0, encoding='latin')\n",
        "stats_df = df.drop(['Name', 'Type 1', 'Type 2', 'Total', 'Stage', 'Legendary'], axis=1)\n",
        "\n",
        "print(f\"Pokemon dataset shape: {df.shape}\")\n",
        "print(f\"Stats columns: {list(stats_df.columns)}\")"
      ],
      "metadata": {
        "id": "PBirsoCI8GM7"
      },
      "execution_count": null,
      "outputs": []
    },
    {
      "cell_type": "code",
      "source": [
        "# Pearson Correlation\n",
        "plt.figure(figsize=(9, 8))\n",
        "corr = stats_df.corr()\n",
        "sns.heatmap(corr, annot=True, cmap='coolwarm', center=0)\n",
        "plt.title('Pearson Correlation Matrix - Pokemon Stats')\n",
        "plt.show()"
      ],
      "metadata": {
        "id": "lZRssqtS9kaw"
      },
      "execution_count": null,
      "outputs": []
    },
    {
      "cell_type": "code",
      "source": [
        "# Spearman Correlation\n",
        "plt.figure(figsize=(9, 8))\n",
        "corr_spearman = stats_df.corr(method='spearman')\n",
        "sns.heatmap(corr_spearman, annot=True, cmap='coolwarm', center=0)\n",
        "plt.title('Spearman Rank Correlation Matrix - Pokemon Stats')\n",
        "plt.show()"
      ],
      "metadata": {
        "id": "a5310M1a9pVc"
      },
      "execution_count": null,
      "outputs": []
    },
    {
      "cell_type": "markdown",
      "source": [
        "## **Task - 02**"
      ],
      "metadata": {
        "id": "ci_38rG9Un8c"
      }
    },
    {
      "cell_type": "markdown",
      "source": [
        "**1.1 Load the dataset and filter Columns**"
      ],
      "metadata": {
        "id": "ip4sadf0VqVr"
      }
    },
    {
      "cell_type": "code",
      "source": [
        "# Step 1: Load Dataset\n",
        "df = pd.read_csv('Au_nanoparticle_dataset.csv', index_col=0, encoding='latin')\n",
        "\n",
        "print(\"Original Dataset Shape:\", df.shape)\n",
        "df.head()\n",
        "\n",
        "\n",
        "# Step 2: Create new dataframe with only the required columns\n",
        "cols = [\"N_total\", \"N_bulk\", \"N_surface\", \"R_avg\"]\n",
        "new_df = df[cols]\n",
        "print(\"Filtered DataFrame Shape:\", new_df.shape)\n",
        "print(\"Filtered DataFrame Columns:\", list(new_df.columns))"
      ],
      "metadata": {
        "id": "UWqP7jYGV12r"
      },
      "execution_count": null,
      "outputs": []
    },
    {
      "cell_type": "markdown",
      "source": [
        "**1.2 Display first 20 samples of the dataframe**"
      ],
      "metadata": {
        "id": "4NJfzMt-XH46"
      }
    },
    {
      "cell_type": "code",
      "source": [
        "print(\"\\nFirst 20 samples:\")\n",
        "print(new_df.head(20))"
      ],
      "metadata": {
        "id": "sw1Bv9MDXQ_g"
      },
      "execution_count": null,
      "outputs": []
    },
    {
      "cell_type": "markdown",
      "source": [
        "**1.3 Calculate statistics**"
      ],
      "metadata": {
        "id": "RaMfGQS8Xg6D"
      }
    },
    {
      "cell_type": "code",
      "source": [
        "stats = pd.DataFrame({\n",
        "    \"Mean\": new_df.mean(),\n",
        "    \"Std Dev\": new_df.std(),\n",
        "    \"25% Quartile\": new_df.quantile(0.25),\n",
        "    \"50% Quartile(Median)\": new_df.quantile(0.50),\n",
        "    \"75% Quartile\": new_df.quantile(0.75)\n",
        "})\n",
        "\n",
        "print(\"\\nStatistical Summary:\")\n",
        "print(stats)\n"
      ],
      "metadata": {
        "id": "EKyzwLfqXlqL"
      },
      "execution_count": null,
      "outputs": []
    },
    {
      "cell_type": "markdown",
      "source": [
        "**1.4 Plot histograms in 1x4 layout**"
      ],
      "metadata": {
        "id": "5dCjELiCYZ41"
      }
    },
    {
      "cell_type": "code",
      "source": [
        "plt.figure(figsize=(16, 4))\n",
        "\n",
        "plt.subplot(1, 4, 1)\n",
        "plt.hist(new_df['N_total'], bins=30, color='purple', alpha=0.7)\n",
        "plt.title('Histogram of N_total')\n",
        "plt.xlabel('N_total')\n",
        "plt.ylabel('Frequency')\n",
        "\n",
        "plt.subplot(1, 4, 2)\n",
        "plt.hist(new_df['N_bulk'], bins=30, color='red', alpha=0.7)\n",
        "plt.title('Histogram of N_bulk')\n",
        "plt.xlabel('N_bulk')\n",
        "plt.ylabel('Frequency')\n",
        "\n",
        "plt.subplot(1, 4, 3)\n",
        "plt.hist(new_df['N_surface'], bins=30, color='skyblue', alpha=0.7)\n",
        "plt.title('Histogram of N_surface')\n",
        "plt.xlabel('N_surface')\n",
        "plt.ylabel('Frequency')\n",
        "\n",
        "plt.subplot(1, 4, 4)\n",
        "plt.hist(new_df['R_avg'], bins=30, color='green', alpha=0.7)\n",
        "plt.title('Histogram of R_avg')\n",
        "plt.xlabel('R_avg')\n",
        "plt.ylabel('Frequency')\n",
        "\n",
        "plt.tight_layout()\n",
        "plt.show()\n"
      ],
      "metadata": {
        "id": "2xcwWb9IYe3-"
      },
      "execution_count": null,
      "outputs": []
    },
    {
      "cell_type": "markdown",
      "source": [
        "**1.5 Pairplot of the dataframe**"
      ],
      "metadata": {
        "id": "3gqza2k6ZX37"
      }
    },
    {
      "cell_type": "code",
      "source": [
        "sns.pairplot(new_df)\n",
        "plt.show()"
      ],
      "metadata": {
        "id": "xQ0pkI17ZdH1"
      },
      "execution_count": null,
      "outputs": []
    },
    {
      "cell_type": "markdown",
      "source": [
        "**1.6 Custom PairGrid with hist + KDE**"
      ],
      "metadata": {
        "id": "x3c6NkdEZ640"
      }
    },
    {
      "cell_type": "code",
      "source": [
        "# Improved version with better readability\n",
        "g = sns.PairGrid(new_df[['N_total', 'N_bulk', 'N_surface', 'R_avg']])\n",
        "\n",
        "# Upper triangle: scatter plots (more readable)\n",
        "g.map_upper(sns.scatterplot, alpha=0.6)\n",
        "\n",
        "# Diagonal: histogram + KDE\n",
        "g.map_diag(sns.histplot, kde=True)\n",
        "\n",
        "# Lower triangle: regression plots\n",
        "g.map_lower(sns.regplot, scatter_kws={'alpha':0.5})\n",
        "\n",
        "plt.show()\n",
        "plt.show()"
      ],
      "metadata": {
        "id": "9CFOBCmMaEpM"
      },
      "execution_count": null,
      "outputs": []
    },
    {
      "cell_type": "code",
      "source": [
        "g = sns.PairGrid(new_df)\n",
        "\n",
        "# Upper: Bivariate histogram\n",
        "g.map_upper(sns.histplot)\n",
        "\n",
        "# Diagonal: Histogram + KDE\n",
        "g.map_diag(sns.histplot, kde=True, color=\"orange\")\n",
        "\n",
        "# Lower: Bivariate KDE plot\n",
        "g.map_lower(sns.kdeplot, fill=True, cmap=\"Blues\")\n",
        "\n",
        "plt.show()"
      ],
      "metadata": {
        "id": "m-g-N3HJqpEY"
      },
      "execution_count": null,
      "outputs": []
    },
    {
      "cell_type": "markdown",
      "source": [
        "**Completion of the Lab-01!!**"
      ],
      "metadata": {
        "id": "xyLMxuGrwh3U"
      }
    }
  ]
}